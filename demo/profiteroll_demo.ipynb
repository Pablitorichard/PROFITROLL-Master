{
 "cells": [
  {
   "cell_type": "markdown",
   "metadata": {},
   "source": [
    "<center> <img src=\"profitroll.png\">"
   ]
  },
  {
   "cell_type": "markdown",
   "metadata": {},
   "source": [
    "# <center><span style=\"font-size: 50px; color: blue;\">PROFITROLL DEMO</span></center>\n",
    "\n",
    "<center><span style=\"font-size: 25px; color: purple;\">This notebook shows how to use our package profitroll to perform a simulation</span></center>\n",
    "<p></p>\n",
    "\n",
    "<center><span style=\"font-size: 16px; color: black;\">Please make sure you installed our module named <b><i>profitroll<i/></b> by running the following commands in a terminal:</span></center>\n",
    "<p></p>\n",
    "\n",
    "<center><code style=\"font-size: 16px; color: green;\">$ cd PROFITROLL-Master/\n",
    "$ python setup.py install"
   ]
  },
  {
   "cell_type": "markdown",
   "metadata": {},
   "source": [
    "# Our module is named profitroll"
   ]
  },
  {
   "cell_type": "code",
   "execution_count": null,
   "metadata": {},
   "outputs": [],
   "source": [
    "from profitroll.core.grid import Grid\n",
    "from profitroll.core.state import State\n",
    "from profitroll.core.simulation import Simulation\n",
    "from profitroll.test.test_cases import v_stripe_test, bubble_test, gaussian_test"
   ]
  },
  {
   "cell_type": "markdown",
   "metadata": {},
   "source": [
    "# Simulation parameters"
   ]
  },
  {
   "cell_type": "code",
   "execution_count": null,
   "metadata": {},
   "outputs": [],
   "source": [
    "Lx = 2048e3\n",
    "Ly = 1024e3\n",
    "Nx = 256\n",
    "Ny = 128\n",
    "\n",
    "\n",
    "T = 5*3600 # Complete simulation is no more very long\n",
    "dt = 300\n",
    "Nt = int(T//dt)\n",
    "\n",
    "\n",
    "dX = Nx//8  # used to shape the initial v-stripe data\n",
    "dY = Ny//15\n",
    "\n",
    "nb_state = 2  # number of instants in initial data"
   ]
  },
  {
   "cell_type": "markdown",
   "metadata": {},
   "source": [
    "# We import our scientific methods"
   ]
  },
  {
   "cell_type": "code",
   "execution_count": null,
   "metadata": {},
   "outputs": [],
   "source": [
    "from profitroll.methods.pseudo_spectral_wind import pseudo_spectral_wind\n",
    "from profitroll.methods.wrap_advection_step_3P import wrap_advection_step_3P\n",
    "from profitroll.methods.wrap_wv import wrap_wv\n",
    "from profitroll.methods.end_pop import end_pop"
   ]
  },
  {
   "cell_type": "markdown",
   "metadata": {},
   "source": [
    "Your methods have just been wrapped in such a way it fits our architechture, here is an example of a stupid method. Nothing of scientific, but you can see its signature, and basically understand how we expect a method to interact with data."
   ]
  },
  {
   "cell_type": "code",
   "execution_count": null,
   "metadata": {},
   "outputs": [],
   "source": [
    "def stupid_method(history, verbose, *args, **kwargs):\n",
    "    last_state = history.state_list[-1]\n",
    "    \n",
    "    new_state = State.copy(last_state)\n",
    "    new_state.t += dt\n",
    "    \n",
    "    print(new_state.t) if verbose else None\n",
    "    \n",
    "    new_state.vrs['theta_t'][int(new_state.t) % Nx, int(new_state.t) % Ny] = 1 # yes it is stupid\n",
    "    \n",
    "    history.append(new_state) # adding the new fresh state\n",
    "    history.pop(0) # deleting the oldest state"
   ]
  },
  {
   "cell_type": "markdown",
   "metadata": {},
   "source": [
    "# Simulation parameters and building"
   ]
  },
  {
   "cell_type": "code",
   "execution_count": null,
   "metadata": {},
   "outputs": [],
   "source": [
    "methods = [pseudo_spectral_wind,\n",
    "           wrap_advection_step_3P,wrap_wv,end_pop]\n",
    "\n",
    "methods_kwargs = [{},\n",
    "                  {'alpha_method' : 'damped_bicubic',\n",
    "                   'order_alpha' : 2, \n",
    "                   'F_method' : 'damped_bicubic'},\n",
    "                  {'alpha_method' : 'damped_bicubic',\n",
    "                   'order_alpha' : 2, \n",
    "                   'F_method' : 'damped_bicubic'},\n",
    "                  {}]\n",
    "\n",
    "output_folder = 'output_test'\n",
    "save_rate = 1\n",
    "backup_rate = 10\n",
    "verbose = 1 # displaying level, usefull to inspect what's going wrong"
   ]
  },
  {
   "cell_type": "code",
   "execution_count": null,
   "metadata": {},
   "outputs": [],
   "source": [
    "# Creation of the test case\n",
    "initialCDF = v_stripe_test('initial.nc', Lx, Ly, Nx, Ny, dt, nb_state, dX, dY)"
   ]
  },
  {
   "cell_type": "code",
   "execution_count": null,
   "metadata": {},
   "outputs": [],
   "source": [
    "# Creation of the simulation object\n",
    "mySim = Simulation(initialCDF,\n",
    "                   methods, \n",
    "                   methods_kwargs,\n",
    "                   output_folder,\n",
    "                   verbose=verbose, \n",
    "                   name='testfb')"
   ]
  },
  {
   "cell_type": "code",
   "execution_count": null,
   "metadata": {},
   "outputs": [],
   "source": [
    "# Run the simulation\n",
    "mySim.run(T, Nt, save_rate, backup_rate, first_run=True) "
   ]
  },
  {
   "cell_type": "markdown",
   "metadata": {},
   "source": [
    "### if you want to extend the simulation a little bit..."
   ]
  },
  {
   "cell_type": "markdown",
   "metadata": {},
   "source": [
    "We will extend the first run (5h of simulation) with a new one (2h). We can change the save rate. "
   ]
  },
  {
   "cell_type": "code",
   "execution_count": null,
   "metadata": {},
   "outputs": [],
   "source": [
    "T2 = 2*3600 \n",
    "Nt2 = int(T2//dt)"
   ]
  },
  {
   "cell_type": "code",
   "execution_count": null,
   "metadata": {},
   "outputs": [],
   "source": [
    "save_rate = 2\n",
    "backup_rate = 6\n",
    "mySim.run(T2, Nt2, save_rate, backup_rate, first_run=False)"
   ]
  },
  {
   "cell_type": "markdown",
   "metadata": {},
   "source": [
    "# <center> Plot the results !"
   ]
  },
  {
   "cell_type": "markdown",
   "metadata": {},
   "source": [
    "You will create an interactive object linked to a netCDF file (the result one). You can change the plotted variable, time and colormap. Don't worry it is re-opened and re-closed at each change you ask for so the file is not corrupted."
   ]
  },
  {
   "cell_type": "code",
   "execution_count": null,
   "metadata": {},
   "outputs": [],
   "source": [
    "from profitroll.display.interacting_plot import interactive_plot"
   ]
  },
  {
   "cell_type": "code",
   "execution_count": null,
   "metadata": {},
   "outputs": [],
   "source": [
    "inter = interactive_plot('output_test/results_testfb.nc')\n",
    "inter"
   ]
  },
  {
   "cell_type": "code",
   "execution_count": null,
   "metadata": {},
   "outputs": [],
   "source": [
    "# Create a video\n",
    "from filament.display import animate"
   ]
  },
  {
   "cell_type": "code",
   "execution_count": null,
   "metadata": {},
   "outputs": [],
   "source": [
    "variable = 'Delta_z'\n",
    "\n",
    "# the CDF file results.nc stored in the output_folder is used to \n",
    "# generate a video saved in the output_folder\n",
    "animate.make_video(output_folder + '/results_testfb.nc', output_folder, variable)"
   ]
  },
  {
   "cell_type": "code",
   "execution_count": null,
   "metadata": {},
   "outputs": [],
   "source": []
  }
 ],
 "metadata": {
  "kernelspec": {
   "display_name": "Python 3",
   "language": "python",
   "name": "python3"
  },
  "language_info": {
   "codemirror_mode": {
    "name": "ipython",
    "version": 3
   },
   "file_extension": ".py",
   "mimetype": "text/x-python",
   "name": "python",
   "nbconvert_exporter": "python",
   "pygments_lexer": "ipython3",
   "version": "3.7.6"
  }
 },
 "nbformat": 4,
 "nbformat_minor": 4
}
